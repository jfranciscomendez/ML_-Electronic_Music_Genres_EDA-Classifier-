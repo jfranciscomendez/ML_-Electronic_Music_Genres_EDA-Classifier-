{
 "cells": [
  {
   "cell_type": "code",
   "execution_count": 2,
   "id": "24bd31a7",
   "metadata": {},
   "outputs": [],
   "source": [
    "import pandas as pd"
   ]
  },
  {
   "cell_type": "code",
   "execution_count": 5,
   "id": "f3e26bea",
   "metadata": {},
   "outputs": [
    {
     "data": {
      "text/plain": [
       "Index(['filename', 'length', 'chroma_stft_mean', 'chroma_stft_var', 'rms_mean',\n",
       "       'rms_var', 'spectral_centroid_mean', 'spectral_centroid_var',\n",
       "       'spectral_bandwidth_mean', 'spectral_bandwidth_var', 'rolloff_mean',\n",
       "       'rolloff_var', 'zero_crossing_rate_mean', 'zero_crossing_rate_var',\n",
       "       'harmony_mean', 'harmony_var', 'perceptr_mean', 'perceptr_var', 'tempo',\n",
       "       'mfcc1_mean', 'mfcc1_var', 'mfcc2_mean', 'mfcc2_var', 'mfcc3_mean',\n",
       "       'mfcc3_var', 'mfcc4_mean', 'mfcc4_var', 'mfcc5_mean', 'mfcc5_var',\n",
       "       'mfcc6_mean', 'mfcc6_var', 'mfcc7_mean', 'mfcc7_var', 'mfcc8_mean',\n",
       "       'mfcc8_var', 'mfcc9_mean', 'mfcc9_var', 'mfcc10_mean', 'mfcc10_var',\n",
       "       'mfcc11_mean', 'mfcc11_var', 'mfcc12_mean', 'mfcc12_var', 'mfcc13_mean',\n",
       "       'mfcc13_var', 'mfcc14_mean', 'mfcc14_var', 'mfcc15_mean', 'mfcc15_var',\n",
       "       'mfcc16_mean', 'mfcc16_var', 'mfcc17_mean', 'mfcc17_var', 'mfcc18_mean',\n",
       "       'mfcc18_var', 'mfcc19_mean', 'mfcc19_var', 'mfcc20_mean', 'mfcc20_var',\n",
       "       'label'],\n",
       "      dtype='object')"
      ]
     },
     "execution_count": 5,
     "metadata": {},
     "output_type": "execute_result"
    }
   ],
   "source": [
    "df = pd.read_csv('./features_3_sec.csv')\n",
    "df.columns"
   ]
  },
  {
   "cell_type": "code",
   "execution_count": 8,
   "id": "e218d299",
   "metadata": {},
   "outputs": [],
   "source": [
    "df_alternative_genres = df.groupby('label')[['zero_crossing_rate_mean', 'spectral_centroid_mean', 'rms_mean', 'tempo']].mean()\n"
   ]
  },
  {
   "cell_type": "code",
   "execution_count": null,
   "id": "90e4ddad",
   "metadata": {},
   "outputs": [
    {
     "data": {
      "text/html": [
       "<div>\n",
       "<style scoped>\n",
       "    .dataframe tbody tr th:only-of-type {\n",
       "        vertical-align: middle;\n",
       "    }\n",
       "\n",
       "    .dataframe tbody tr th {\n",
       "        vertical-align: top;\n",
       "    }\n",
       "\n",
       "    .dataframe thead th {\n",
       "        text-align: right;\n",
       "    }\n",
       "</style>\n",
       "<table border=\"1\" class=\"dataframe\">\n",
       "  <thead>\n",
       "    <tr style=\"text-align: right;\">\n",
       "      <th></th>\n",
       "      <th>zero_crossing_rate_mean</th>\n",
       "      <th>spectral_centroid_mean</th>\n",
       "      <th>rms_mean</th>\n",
       "      <th>tempo</th>\n",
       "    </tr>\n",
       "    <tr>\n",
       "      <th>label</th>\n",
       "      <th></th>\n",
       "      <th></th>\n",
       "      <th></th>\n",
       "      <th></th>\n",
       "    </tr>\n",
       "  </thead>\n",
       "  <tbody>\n",
       "    <tr>\n",
       "      <th>blues</th>\n",
       "      <td>0.078189</td>\n",
       "      <td>1726.067889</td>\n",
       "      <td>0.136025</td>\n",
       "      <td>126.690664</td>\n",
       "    </tr>\n",
       "    <tr>\n",
       "      <th>classical</th>\n",
       "      <td>0.076774</td>\n",
       "      <td>1351.320102</td>\n",
       "      <td>0.042812</td>\n",
       "      <td>125.888882</td>\n",
       "    </tr>\n",
       "    <tr>\n",
       "      <th>country</th>\n",
       "      <td>0.082456</td>\n",
       "      <td>1891.187623</td>\n",
       "      <td>0.125690</td>\n",
       "      <td>121.095174</td>\n",
       "    </tr>\n",
       "    <tr>\n",
       "      <th>disco</th>\n",
       "      <td>0.128081</td>\n",
       "      <td>2617.284955</td>\n",
       "      <td>0.136209</td>\n",
       "      <td>122.734182</td>\n",
       "    </tr>\n",
       "    <tr>\n",
       "      <th>hiphop</th>\n",
       "      <td>0.106923</td>\n",
       "      <td>2521.518383</td>\n",
       "      <td>0.178219</td>\n",
       "      <td>125.938210</td>\n",
       "    </tr>\n",
       "    <tr>\n",
       "      <th>jazz</th>\n",
       "      <td>0.076210</td>\n",
       "      <td>1790.281688</td>\n",
       "      <td>0.086641</td>\n",
       "      <td>122.972381</td>\n",
       "    </tr>\n",
       "    <tr>\n",
       "      <th>metal</th>\n",
       "      <td>0.146033</td>\n",
       "      <td>2600.881732</td>\n",
       "      <td>0.153454</td>\n",
       "      <td>124.987786</td>\n",
       "    </tr>\n",
       "    <tr>\n",
       "      <th>pop</th>\n",
       "      <td>0.132269</td>\n",
       "      <td>3069.993025</td>\n",
       "      <td>0.199640</td>\n",
       "      <td>123.140297</td>\n",
       "    </tr>\n",
       "    <tr>\n",
       "      <th>reggae</th>\n",
       "      <td>0.090668</td>\n",
       "      <td>2182.213624</td>\n",
       "      <td>0.122433</td>\n",
       "      <td>133.978200</td>\n",
       "    </tr>\n",
       "    <tr>\n",
       "      <th>rock</th>\n",
       "      <td>0.108115</td>\n",
       "      <td>2239.969555</td>\n",
       "      <td>0.127368</td>\n",
       "      <td>121.434986</td>\n",
       "    </tr>\n",
       "  </tbody>\n",
       "</table>\n",
       "</div>"
      ],
      "text/plain": [
       "           zero_crossing_rate_mean  spectral_centroid_mean  rms_mean  \\\n",
       "label                                                                  \n",
       "blues                     0.078189             1726.067889  0.136025   \n",
       "classical                 0.076774             1351.320102  0.042812   \n",
       "country                   0.082456             1891.187623  0.125690   \n",
       "disco                     0.128081             2617.284955  0.136209   \n",
       "hiphop                    0.106923             2521.518383  0.178219   \n",
       "jazz                      0.076210             1790.281688  0.086641   \n",
       "metal                     0.146033             2600.881732  0.153454   \n",
       "pop                       0.132269             3069.993025  0.199640   \n",
       "reggae                    0.090668             2182.213624  0.122433   \n",
       "rock                      0.108115             2239.969555  0.127368   \n",
       "\n",
       "                tempo  \n",
       "label                  \n",
       "blues      126.690664  \n",
       "classical  125.888882  \n",
       "country    121.095174  \n",
       "disco      122.734182  \n",
       "hiphop     125.938210  \n",
       "jazz       122.972381  \n",
       "metal      124.987786  \n",
       "pop        123.140297  \n",
       "reggae     133.978200  \n",
       "rock       121.434986  "
      ]
     },
     "execution_count": 9,
     "metadata": {},
     "output_type": "execute_result"
    }
   ],
   "source": [
    "df_alternative_genres.replace"
   ]
  },
  {
   "cell_type": "code",
   "execution_count": 10,
   "id": "64440eec",
   "metadata": {},
   "outputs": [],
   "source": [
    "df_alternative_genres.to_csv('./alternative_genres_measures')"
   ]
  },
  {
   "cell_type": "code",
   "execution_count": null,
   "id": "e2a61570",
   "metadata": {},
   "outputs": [],
   "source": []
  }
 ],
 "metadata": {
  "kernelspec": {
   "display_name": "Python 3",
   "language": "python",
   "name": "python3"
  },
  "language_info": {
   "codemirror_mode": {
    "name": "ipython",
    "version": 3
   },
   "file_extension": ".py",
   "mimetype": "text/x-python",
   "name": "python",
   "nbconvert_exporter": "python",
   "pygments_lexer": "ipython3",
   "version": "3.13.2"
  }
 },
 "nbformat": 4,
 "nbformat_minor": 5
}
